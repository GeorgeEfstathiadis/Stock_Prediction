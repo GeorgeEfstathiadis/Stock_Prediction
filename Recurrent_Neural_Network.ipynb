{
  "nbformat": 4,
  "nbformat_minor": 0,
  "metadata": {
    "colab": {
      "name": "Recurrent_Neural_Network.ipynb",
      "provenance": [],
      "collapsed_sections": []
    },
    "kernelspec": {
      "name": "python3",
      "display_name": "Python 3"
    }
  },
  "cells": [
    {
      "cell_type": "code",
      "metadata": {
        "id": "hmJrB8CdiDRB",
        "colab_type": "code",
        "colab": {
          "base_uri": "https://localhost:8080/",
          "height": 34
        },
        "outputId": "2e54667a-a870-417d-84f3-dc121babf99f"
      },
      "source": [
        "cd /content/drive/My Drive/DL/Recurrent_Neural_Networks 4"
      ],
      "execution_count": 2,
      "outputs": [
        {
          "output_type": "stream",
          "text": [
            "/content/drive/My Drive/DL/Recurrent_Neural_Networks 4\n"
          ],
          "name": "stdout"
        }
      ]
    },
    {
      "cell_type": "markdown",
      "metadata": {
        "id": "4x5EHlfXiV4u",
        "colab_type": "text"
      },
      "source": [
        "# Part 1 - Data Preprocessing"
      ]
    },
    {
      "cell_type": "code",
      "metadata": {
        "id": "GeLOx2nwiWTU",
        "colab_type": "code",
        "colab": {}
      },
      "source": [
        "# Importing the libraries\n",
        "import numpy as np\n",
        "import matplotlib.pyplot as plt\n",
        "import pandas as pd"
      ],
      "execution_count": 0,
      "outputs": []
    },
    {
      "cell_type": "code",
      "metadata": {
        "id": "NfaMzHBxiXxj",
        "colab_type": "code",
        "colab": {}
      },
      "source": [
        "# Importing the training set\n",
        "dataset_train = pd.read_csv('Google_Stock_Price_Train.csv')\n",
        "training_set = dataset_train.iloc[:, 1:2].values"
      ],
      "execution_count": 0,
      "outputs": []
    },
    {
      "cell_type": "code",
      "metadata": {
        "id": "aCWq4I7eiZeY",
        "colab_type": "code",
        "colab": {}
      },
      "source": [
        "# Feature Scaling\n",
        "from sklearn.preprocessing import MinMaxScaler\n",
        "sc = MinMaxScaler(feature_range = (0, 1))\n",
        "training_set_scaled = sc.fit_transform(training_set)"
      ],
      "execution_count": 0,
      "outputs": []
    },
    {
      "cell_type": "code",
      "metadata": {
        "id": "_oOFrdmoia2z",
        "colab_type": "code",
        "colab": {}
      },
      "source": [
        "# Creating a data structure with 60 timesteps and 1 output\n",
        "X_train = []\n",
        "y_train = []\n",
        "for i in range(60, 1258):\n",
        "    X_train.append(training_set_scaled[i-60:i, 0])\n",
        "    y_train.append(training_set_scaled[i, 0])\n",
        "X_train, y_train = np.array(X_train), np.array(y_train)\n",
        "\n",
        "# Reshaping\n",
        "X_train = np.reshape(X_train, (X_train.shape[0], X_train.shape[1], 1))"
      ],
      "execution_count": 0,
      "outputs": []
    },
    {
      "cell_type": "markdown",
      "metadata": {
        "id": "I7WSPWgyifhT",
        "colab_type": "text"
      },
      "source": [
        "# Part 2 - Building the RNN\n"
      ]
    },
    {
      "cell_type": "code",
      "metadata": {
        "id": "p45hnxQpif4h",
        "colab_type": "code",
        "colab": {
          "base_uri": "https://localhost:8080/",
          "height": 81
        },
        "outputId": "9ccfb3ff-8de2-47a9-f917-ae7d54b8b5f7"
      },
      "source": [
        "# Importing the Keras libraries and packages\n",
        "from keras.models import Sequential\n",
        "from keras.layers import Dense\n",
        "from keras.layers import LSTM\n",
        "from keras.layers import Dropout"
      ],
      "execution_count": 7,
      "outputs": [
        {
          "output_type": "stream",
          "text": [
            "Using TensorFlow backend.\n"
          ],
          "name": "stderr"
        },
        {
          "output_type": "display_data",
          "data": {
            "text/html": [
              "<p style=\"color: red;\">\n",
              "The default version of TensorFlow in Colab will soon switch to TensorFlow 2.x.<br>\n",
              "We recommend you <a href=\"https://www.tensorflow.org/guide/migrate\" target=\"_blank\">upgrade</a> now \n",
              "or ensure your notebook will continue to use TensorFlow 1.x via the <code>%tensorflow_version 1.x</code> magic:\n",
              "<a href=\"https://colab.research.google.com/notebooks/tensorflow_version.ipynb\" target=\"_blank\">more info</a>.</p>\n"
            ],
            "text/plain": [
              "<IPython.core.display.HTML object>"
            ]
          },
          "metadata": {
            "tags": []
          }
        }
      ]
    },
    {
      "cell_type": "code",
      "metadata": {
        "id": "ABPkBSraikdT",
        "colab_type": "code",
        "colab": {
          "base_uri": "https://localhost:8080/",
          "height": 72
        },
        "outputId": "72e9ac7a-4c4e-46be-932d-07936763f3d7"
      },
      "source": [
        "# Initialising the RNN\n",
        "regressor = Sequential()"
      ],
      "execution_count": 8,
      "outputs": [
        {
          "output_type": "stream",
          "text": [
            "WARNING:tensorflow:From /usr/local/lib/python3.6/dist-packages/keras/backend/tensorflow_backend.py:66: The name tf.get_default_graph is deprecated. Please use tf.compat.v1.get_default_graph instead.\n",
            "\n"
          ],
          "name": "stdout"
        }
      ]
    },
    {
      "cell_type": "code",
      "metadata": {
        "id": "LWEZUWu3il_6",
        "colab_type": "code",
        "colab": {
          "base_uri": "https://localhost:8080/",
          "height": 195
        },
        "outputId": "fa15f3be-8f8b-4845-f53e-28cb584dfaed"
      },
      "source": [
        "# Adding the first LSTM layer and some Dropout regularisation\n",
        "regressor.add(LSTM(units = 50, return_sequences = True, input_shape = (X_train.shape[1], 1)))\n",
        "regressor.add(Dropout(0.2))"
      ],
      "execution_count": 9,
      "outputs": [
        {
          "output_type": "stream",
          "text": [
            "WARNING:tensorflow:From /usr/local/lib/python3.6/dist-packages/keras/backend/tensorflow_backend.py:541: The name tf.placeholder is deprecated. Please use tf.compat.v1.placeholder instead.\n",
            "\n",
            "WARNING:tensorflow:From /usr/local/lib/python3.6/dist-packages/keras/backend/tensorflow_backend.py:4432: The name tf.random_uniform is deprecated. Please use tf.random.uniform instead.\n",
            "\n",
            "WARNING:tensorflow:From /usr/local/lib/python3.6/dist-packages/keras/backend/tensorflow_backend.py:148: The name tf.placeholder_with_default is deprecated. Please use tf.compat.v1.placeholder_with_default instead.\n",
            "\n",
            "WARNING:tensorflow:From /usr/local/lib/python3.6/dist-packages/keras/backend/tensorflow_backend.py:3733: calling dropout (from tensorflow.python.ops.nn_ops) with keep_prob is deprecated and will be removed in a future version.\n",
            "Instructions for updating:\n",
            "Please use `rate` instead of `keep_prob`. Rate should be set to `rate = 1 - keep_prob`.\n"
          ],
          "name": "stdout"
        }
      ]
    },
    {
      "cell_type": "code",
      "metadata": {
        "id": "NT2hnvmcipH_",
        "colab_type": "code",
        "colab": {}
      },
      "source": [
        "# Adding a second LSTM layer and some Dropout regularisation\n",
        "regressor.add(LSTM(units = 50, return_sequences = True))\n",
        "regressor.add(Dropout(0.2))"
      ],
      "execution_count": 0,
      "outputs": []
    },
    {
      "cell_type": "code",
      "metadata": {
        "id": "hygYsXo7iqw7",
        "colab_type": "code",
        "colab": {}
      },
      "source": [
        "# Adding a third LSTM layer and some Dropout regularisation\n",
        "regressor.add(LSTM(units = 50, return_sequences = True))\n",
        "regressor.add(Dropout(0.2))"
      ],
      "execution_count": 0,
      "outputs": []
    },
    {
      "cell_type": "code",
      "metadata": {
        "id": "oJptlVHfish4",
        "colab_type": "code",
        "colab": {}
      },
      "source": [
        "# Adding a fourth LSTM layer and some Dropout regularisation\n",
        "regressor.add(LSTM(units = 50))\n",
        "regressor.add(Dropout(0.2))"
      ],
      "execution_count": 0,
      "outputs": []
    },
    {
      "cell_type": "code",
      "metadata": {
        "id": "EcXTFsxEiuAA",
        "colab_type": "code",
        "colab": {}
      },
      "source": [
        "# Adding the output layer\n",
        "regressor.add(Dense(units = 1))"
      ],
      "execution_count": 0,
      "outputs": []
    },
    {
      "cell_type": "code",
      "metadata": {
        "id": "3LRn4pEYivzg",
        "colab_type": "code",
        "colab": {
          "base_uri": "https://localhost:8080/",
          "height": 72
        },
        "outputId": "201cfd7e-a052-4dbe-bf5e-48554374ca94"
      },
      "source": [
        "# Compiling the RNN\n",
        "regressor.compile(optimizer = 'adam', loss = 'mean_squared_error')"
      ],
      "execution_count": 14,
      "outputs": [
        {
          "output_type": "stream",
          "text": [
            "WARNING:tensorflow:From /usr/local/lib/python3.6/dist-packages/keras/optimizers.py:793: The name tf.train.Optimizer is deprecated. Please use tf.compat.v1.train.Optimizer instead.\n",
            "\n"
          ],
          "name": "stdout"
        }
      ]
    },
    {
      "cell_type": "code",
      "metadata": {
        "id": "REf7FvZ8ixji",
        "colab_type": "code",
        "colab": {
          "base_uri": "https://localhost:8080/",
          "height": 1000
        },
        "outputId": "0866cef4-671c-4ecd-c1ae-d6c235bb2f13"
      },
      "source": [
        "# Fitting the RNN to the Training set\n",
        "regressor.fit(X_train, y_train, epochs = 100, batch_size = 32)"
      ],
      "execution_count": 15,
      "outputs": [
        {
          "output_type": "stream",
          "text": [
            "WARNING:tensorflow:From /usr/local/lib/python3.6/dist-packages/tensorflow_core/python/ops/math_grad.py:1424: where (from tensorflow.python.ops.array_ops) is deprecated and will be removed in a future version.\n",
            "Instructions for updating:\n",
            "Use tf.where in 2.0, which has the same broadcast rule as np.where\n",
            "WARNING:tensorflow:From /usr/local/lib/python3.6/dist-packages/keras/backend/tensorflow_backend.py:1033: The name tf.assign_add is deprecated. Please use tf.compat.v1.assign_add instead.\n",
            "\n",
            "WARNING:tensorflow:From /usr/local/lib/python3.6/dist-packages/keras/backend/tensorflow_backend.py:1020: The name tf.assign is deprecated. Please use tf.compat.v1.assign instead.\n",
            "\n",
            "WARNING:tensorflow:From /usr/local/lib/python3.6/dist-packages/keras/backend/tensorflow_backend.py:3005: The name tf.Session is deprecated. Please use tf.compat.v1.Session instead.\n",
            "\n",
            "Epoch 1/100\n",
            "WARNING:tensorflow:From /usr/local/lib/python3.6/dist-packages/keras/backend/tensorflow_backend.py:190: The name tf.get_default_session is deprecated. Please use tf.compat.v1.get_default_session instead.\n",
            "\n",
            "WARNING:tensorflow:From /usr/local/lib/python3.6/dist-packages/keras/backend/tensorflow_backend.py:197: The name tf.ConfigProto is deprecated. Please use tf.compat.v1.ConfigProto instead.\n",
            "\n",
            "WARNING:tensorflow:From /usr/local/lib/python3.6/dist-packages/keras/backend/tensorflow_backend.py:207: The name tf.global_variables is deprecated. Please use tf.compat.v1.global_variables instead.\n",
            "\n",
            "WARNING:tensorflow:From /usr/local/lib/python3.6/dist-packages/keras/backend/tensorflow_backend.py:216: The name tf.is_variable_initialized is deprecated. Please use tf.compat.v1.is_variable_initialized instead.\n",
            "\n",
            "WARNING:tensorflow:From /usr/local/lib/python3.6/dist-packages/keras/backend/tensorflow_backend.py:223: The name tf.variables_initializer is deprecated. Please use tf.compat.v1.variables_initializer instead.\n",
            "\n",
            "1198/1198 [==============================] - 11s 9ms/step - loss: 0.0461\n",
            "Epoch 2/100\n",
            "1198/1198 [==============================] - 8s 6ms/step - loss: 0.0059\n",
            "Epoch 3/100\n",
            "1198/1198 [==============================] - 8s 6ms/step - loss: 0.0050\n",
            "Epoch 4/100\n",
            "1198/1198 [==============================] - 8s 6ms/step - loss: 0.0056\n",
            "Epoch 5/100\n",
            "1198/1198 [==============================] - 8s 6ms/step - loss: 0.0052\n",
            "Epoch 6/100\n",
            "1198/1198 [==============================] - 8s 6ms/step - loss: 0.0048\n",
            "Epoch 7/100\n",
            "1198/1198 [==============================] - 8s 6ms/step - loss: 0.0045\n",
            "Epoch 8/100\n",
            "1198/1198 [==============================] - 8s 6ms/step - loss: 0.0044\n",
            "Epoch 9/100\n",
            "1198/1198 [==============================] - 8s 6ms/step - loss: 0.0045\n",
            "Epoch 10/100\n",
            "1198/1198 [==============================] - 8s 6ms/step - loss: 0.0045\n",
            "Epoch 11/100\n",
            "1198/1198 [==============================] - 8s 6ms/step - loss: 0.0048\n",
            "Epoch 12/100\n",
            "1198/1198 [==============================] - 8s 6ms/step - loss: 0.0039\n",
            "Epoch 13/100\n",
            "1198/1198 [==============================] - 8s 6ms/step - loss: 0.0038\n",
            "Epoch 14/100\n",
            "1198/1198 [==============================] - 8s 6ms/step - loss: 0.0038\n",
            "Epoch 15/100\n",
            "1198/1198 [==============================] - 8s 7ms/step - loss: 0.0037\n",
            "Epoch 16/100\n",
            "1198/1198 [==============================] - 8s 6ms/step - loss: 0.0036\n",
            "Epoch 17/100\n",
            "1198/1198 [==============================] - 8s 7ms/step - loss: 0.0042\n",
            "Epoch 18/100\n",
            "1198/1198 [==============================] - 8s 6ms/step - loss: 0.0034\n",
            "Epoch 19/100\n",
            "1198/1198 [==============================] - 8s 6ms/step - loss: 0.0036\n",
            "Epoch 20/100\n",
            "1198/1198 [==============================] - 8s 6ms/step - loss: 0.0033\n",
            "Epoch 21/100\n",
            "1198/1198 [==============================] - 8s 6ms/step - loss: 0.0033\n",
            "Epoch 22/100\n",
            "1198/1198 [==============================] - 8s 7ms/step - loss: 0.0033\n",
            "Epoch 23/100\n",
            "1198/1198 [==============================] - 8s 7ms/step - loss: 0.0032\n",
            "Epoch 24/100\n",
            "1198/1198 [==============================] - 8s 6ms/step - loss: 0.0031\n",
            "Epoch 25/100\n",
            "1198/1198 [==============================] - 8s 6ms/step - loss: 0.0030\n",
            "Epoch 26/100\n",
            "1198/1198 [==============================] - 8s 6ms/step - loss: 0.0038\n",
            "Epoch 27/100\n",
            "1198/1198 [==============================] - 8s 7ms/step - loss: 0.0032\n",
            "Epoch 28/100\n",
            "1198/1198 [==============================] - 8s 6ms/step - loss: 0.0033\n",
            "Epoch 29/100\n",
            "1198/1198 [==============================] - 8s 6ms/step - loss: 0.0031\n",
            "Epoch 30/100\n",
            "1198/1198 [==============================] - 8s 6ms/step - loss: 0.0031\n",
            "Epoch 31/100\n",
            "1198/1198 [==============================] - 8s 7ms/step - loss: 0.0031\n",
            "Epoch 32/100\n",
            "1198/1198 [==============================] - 8s 7ms/step - loss: 0.0032\n",
            "Epoch 33/100\n",
            "1198/1198 [==============================] - 8s 7ms/step - loss: 0.0030\n",
            "Epoch 34/100\n",
            "1198/1198 [==============================] - 8s 7ms/step - loss: 0.0025\n",
            "Epoch 35/100\n",
            "1198/1198 [==============================] - 8s 6ms/step - loss: 0.0031\n",
            "Epoch 36/100\n",
            "1198/1198 [==============================] - 8s 7ms/step - loss: 0.0028\n",
            "Epoch 37/100\n",
            "1198/1198 [==============================] - 8s 6ms/step - loss: 0.0026\n",
            "Epoch 38/100\n",
            "1198/1198 [==============================] - 8s 7ms/step - loss: 0.0028\n",
            "Epoch 39/100\n",
            "1198/1198 [==============================] - 8s 6ms/step - loss: 0.0025\n",
            "Epoch 40/100\n",
            "1198/1198 [==============================] - 8s 7ms/step - loss: 0.0027\n",
            "Epoch 41/100\n",
            "1198/1198 [==============================] - 8s 7ms/step - loss: 0.0026\n",
            "Epoch 42/100\n",
            "1198/1198 [==============================] - 8s 7ms/step - loss: 0.0029\n",
            "Epoch 43/100\n",
            "1198/1198 [==============================] - 8s 6ms/step - loss: 0.0025\n",
            "Epoch 44/100\n",
            "1198/1198 [==============================] - 8s 6ms/step - loss: 0.0027\n",
            "Epoch 45/100\n",
            "1198/1198 [==============================] - 8s 7ms/step - loss: 0.0023\n",
            "Epoch 46/100\n",
            "1198/1198 [==============================] - 8s 7ms/step - loss: 0.0027\n",
            "Epoch 47/100\n",
            "1198/1198 [==============================] - 8s 7ms/step - loss: 0.0023\n",
            "Epoch 48/100\n",
            "1198/1198 [==============================] - 8s 7ms/step - loss: 0.0029\n",
            "Epoch 49/100\n",
            "1198/1198 [==============================] - 8s 6ms/step - loss: 0.0022\n",
            "Epoch 50/100\n",
            "1198/1198 [==============================] - 8s 7ms/step - loss: 0.0024\n",
            "Epoch 51/100\n",
            "1198/1198 [==============================] - 8s 7ms/step - loss: 0.0022\n",
            "Epoch 52/100\n",
            "1198/1198 [==============================] - 8s 6ms/step - loss: 0.0023\n",
            "Epoch 53/100\n",
            "1198/1198 [==============================] - 8s 6ms/step - loss: 0.0024\n",
            "Epoch 54/100\n",
            "1198/1198 [==============================] - 8s 7ms/step - loss: 0.0023\n",
            "Epoch 55/100\n",
            "1198/1198 [==============================] - 8s 7ms/step - loss: 0.0021\n",
            "Epoch 56/100\n",
            "1198/1198 [==============================] - 8s 7ms/step - loss: 0.0023\n",
            "Epoch 57/100\n",
            "1198/1198 [==============================] - 8s 7ms/step - loss: 0.0023\n",
            "Epoch 58/100\n",
            "1198/1198 [==============================] - 8s 6ms/step - loss: 0.0023\n",
            "Epoch 59/100\n",
            "1198/1198 [==============================] - 8s 6ms/step - loss: 0.0021\n",
            "Epoch 60/100\n",
            "1198/1198 [==============================] - 8s 6ms/step - loss: 0.0021\n",
            "Epoch 61/100\n",
            "1198/1198 [==============================] - 8s 7ms/step - loss: 0.0019\n",
            "Epoch 62/100\n",
            "1198/1198 [==============================] - 8s 7ms/step - loss: 0.0020\n",
            "Epoch 63/100\n",
            "1198/1198 [==============================] - 8s 6ms/step - loss: 0.0021\n",
            "Epoch 64/100\n",
            "1198/1198 [==============================] - 8s 7ms/step - loss: 0.0021\n",
            "Epoch 65/100\n",
            "1198/1198 [==============================] - 8s 6ms/step - loss: 0.0018\n",
            "Epoch 66/100\n",
            "1198/1198 [==============================] - 8s 6ms/step - loss: 0.0020\n",
            "Epoch 67/100\n",
            "1198/1198 [==============================] - 8s 6ms/step - loss: 0.0020\n",
            "Epoch 68/100\n",
            "1198/1198 [==============================] - 8s 6ms/step - loss: 0.0020\n",
            "Epoch 69/100\n",
            "1198/1198 [==============================] - 8s 6ms/step - loss: 0.0020\n",
            "Epoch 70/100\n",
            "1198/1198 [==============================] - 8s 6ms/step - loss: 0.0018\n",
            "Epoch 71/100\n",
            "1198/1198 [==============================] - 8s 7ms/step - loss: 0.0017\n",
            "Epoch 72/100\n",
            "1198/1198 [==============================] - 8s 6ms/step - loss: 0.0019\n",
            "Epoch 73/100\n",
            "1198/1198 [==============================] - 8s 7ms/step - loss: 0.0018\n",
            "Epoch 74/100\n",
            "1198/1198 [==============================] - 8s 7ms/step - loss: 0.0020\n",
            "Epoch 75/100\n",
            "1198/1198 [==============================] - 8s 6ms/step - loss: 0.0017\n",
            "Epoch 76/100\n",
            "1198/1198 [==============================] - 8s 6ms/step - loss: 0.0020\n",
            "Epoch 77/100\n",
            "1198/1198 [==============================] - 8s 7ms/step - loss: 0.0017\n",
            "Epoch 78/100\n",
            "1198/1198 [==============================] - 8s 7ms/step - loss: 0.0018\n",
            "Epoch 79/100\n",
            "1198/1198 [==============================] - 8s 7ms/step - loss: 0.0017\n",
            "Epoch 80/100\n",
            "1198/1198 [==============================] - 8s 6ms/step - loss: 0.0018\n",
            "Epoch 81/100\n",
            "1198/1198 [==============================] - 8s 7ms/step - loss: 0.0016\n",
            "Epoch 82/100\n",
            "1198/1198 [==============================] - 8s 6ms/step - loss: 0.0017\n",
            "Epoch 83/100\n",
            "1198/1198 [==============================] - 8s 7ms/step - loss: 0.0019\n",
            "Epoch 84/100\n",
            "1198/1198 [==============================] - 8s 7ms/step - loss: 0.0018\n",
            "Epoch 85/100\n",
            "1198/1198 [==============================] - 8s 7ms/step - loss: 0.0016\n",
            "Epoch 86/100\n",
            "1198/1198 [==============================] - 8s 7ms/step - loss: 0.0016\n",
            "Epoch 87/100\n",
            "1198/1198 [==============================] - 8s 7ms/step - loss: 0.0015\n",
            "Epoch 88/100\n",
            "1198/1198 [==============================] - 8s 7ms/step - loss: 0.0016\n",
            "Epoch 89/100\n",
            "1198/1198 [==============================] - 8s 7ms/step - loss: 0.0016\n",
            "Epoch 90/100\n",
            "1198/1198 [==============================] - 8s 7ms/step - loss: 0.0016\n",
            "Epoch 91/100\n",
            "1198/1198 [==============================] - 8s 7ms/step - loss: 0.0016\n",
            "Epoch 92/100\n",
            "1198/1198 [==============================] - 8s 7ms/step - loss: 0.0016\n",
            "Epoch 93/100\n",
            "1198/1198 [==============================] - 8s 6ms/step - loss: 0.0015\n",
            "Epoch 94/100\n",
            "1198/1198 [==============================] - 8s 7ms/step - loss: 0.0016\n",
            "Epoch 95/100\n",
            "1198/1198 [==============================] - 8s 7ms/step - loss: 0.0015\n",
            "Epoch 96/100\n",
            "1198/1198 [==============================] - 8s 7ms/step - loss: 0.0017\n",
            "Epoch 97/100\n",
            "1198/1198 [==============================] - 8s 6ms/step - loss: 0.0016\n",
            "Epoch 98/100\n",
            "1198/1198 [==============================] - 8s 7ms/step - loss: 0.0014\n",
            "Epoch 99/100\n",
            "1198/1198 [==============================] - 8s 7ms/step - loss: 0.0015\n",
            "Epoch 100/100\n",
            "1198/1198 [==============================] - 8s 7ms/step - loss: 0.0015\n"
          ],
          "name": "stdout"
        },
        {
          "output_type": "execute_result",
          "data": {
            "text/plain": [
              "<keras.callbacks.History at 0x7fd2c606cda0>"
            ]
          },
          "metadata": {
            "tags": []
          },
          "execution_count": 15
        }
      ]
    },
    {
      "cell_type": "markdown",
      "metadata": {
        "id": "RaAfIKp3izK3",
        "colab_type": "text"
      },
      "source": [
        "# Part 3 - Making the predictions and visualising the results\n"
      ]
    },
    {
      "cell_type": "code",
      "metadata": {
        "id": "zqhUGDAVnKAO",
        "colab_type": "code",
        "colab": {}
      },
      "source": [
        "# Getting the real stock price of 2017\n",
        "dataset_test = pd.read_csv('Google_Stock_Price_Test.csv')\n",
        "real_stock_price = dataset_test.iloc[:, 1:2].values"
      ],
      "execution_count": 0,
      "outputs": []
    },
    {
      "cell_type": "code",
      "metadata": {
        "id": "Duc94kdanLqx",
        "colab_type": "code",
        "colab": {}
      },
      "source": [
        "# Getting the predicted stock price of 2017\n",
        "dataset_total = pd.concat((dataset_train['Open'], dataset_test['Open']), axis = 0)\n",
        "inputs = dataset_total[len(dataset_total) - len(dataset_test) - 60:].values\n",
        "inputs = inputs.reshape(-1,1)\n",
        "inputs = sc.transform(inputs)\n",
        "X_test = []\n",
        "for i in range(60, 80):\n",
        "    X_test.append(inputs[i-60:i, 0])\n",
        "X_test = np.array(X_test)\n",
        "X_test = np.reshape(X_test, (X_test.shape[0], X_test.shape[1], 1))\n",
        "predicted_stock_price = regressor.predict(X_test)\n",
        "predicted_stock_price = sc.inverse_transform(predicted_stock_price)"
      ],
      "execution_count": 0,
      "outputs": []
    },
    {
      "cell_type": "code",
      "metadata": {
        "id": "iXzTci7SnNzE",
        "colab_type": "code",
        "colab": {
          "base_uri": "https://localhost:8080/",
          "height": 295
        },
        "outputId": "cc355eef-9910-4b8b-f49b-938e45a0389b"
      },
      "source": [
        "# Visualising the results\n",
        "plt.plot(real_stock_price, color = 'red', label = 'Real Google Stock Price')\n",
        "plt.plot(predicted_stock_price, color = 'blue', label = 'Predicted Google Stock Price')\n",
        "plt.title('Google Stock Price Prediction')\n",
        "plt.xlabel('Time')\n",
        "plt.ylabel('Google Stock Price')\n",
        "plt.legend()\n",
        "plt.show()"
      ],
      "execution_count": 18,
      "outputs": [
        {
          "output_type": "display_data",
          "data": {
            "image/png": "[encoded data removed]",
            "text/plain": [
              "<Figure size 432x288 with 1 Axes>"
            ]
          },
          "metadata": {
            "tags": []
          }
        }
      ]
    }
  ]
}